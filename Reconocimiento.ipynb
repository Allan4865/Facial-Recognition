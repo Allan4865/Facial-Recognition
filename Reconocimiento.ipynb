{
 "cells": [
  {
   "cell_type": "code",
   "execution_count": 11,
   "id": "08637404",
   "metadata": {},
   "outputs": [],
   "source": [
    "from keras.models import load_model\n",
    "import cv2\n",
    "import numpy as np\n",
    "from skimage.transform import resize\n",
    "\n",
    "# Cargar el modelo y el clasificador de rostros\n",
    "modelo = load_model('CNN/modelPrueba111-013DEF.model')\n",
    "face_clsfr = cv2.CascadeClassifier(cv2.data.haarcascades + 'haarcascade_frontalface_default.xml')\n",
    "\n",
    "#Abrir el video o la cámara\n",
    "source = cv2.VideoCapture('Deconocido.mp4')\n",
    "#source = cv2.VideoCapture(0)\n",
    "labels_dict = {0: 'jair', 1: 'Cris', 2: 'Messi', 3: 'Dylan', 4: 'Desconocido'}\n",
    "color_dict = {0: (0, 255, 0), 1: (0, 0, 255), 2: (255, 0, 0), 3: (0, 255, 255), 4: (0, 0, 0)}\n",
    "\n",
    "while True:\n",
    "    ret, img = source.read()\n",
    "    gray = cv2.cvtColor(img, cv2.COLOR_BGR2GRAY)\n",
    "    faces = face_clsfr.detectMultiScale(gray, 1.3, 5)\n",
    "\n",
    "    for (x, y, w, h) in faces:\n",
    "        face_img = gray[y:y+w, x:x+w]\n",
    "        resized = resize(face_img, (150, 150, 3))\n",
    "\n",
    "\n",
    "        result = modelo.predict(np.expand_dims(resized, axis=0))\n",
    "\n",
    "        label = np.argmax(result, axis=1)[0]\n",
    "\n",
    "        cv2.putText(img, '{}'.format(label), (x, y-50), 1, 1.3, (86, 155, 35), 1, cv2.LINE_AA)\n",
    "\n",
    "        if label in labels_dict:\n",
    "            cv2.putText(img, '{}'.format(labels_dict[label]), (x, y-25), 2, 1.1, (255, 255, 0), 1, cv2.LINE_AA)\n",
    "            cv2.putText(img, 'Estudiante', (x, y+h+30), 2, 0.8, (255, 255, 0), 1, cv2.LINE_AA)\n",
    "            cv2.rectangle(img, (x, y), (x+w, y+h), color_dict[label], 2)\n",
    "        else:\n",
    "            cv2.putText(img, 'Desconocido', (x, y-25), 2, 1.1, (0, 0, 0), 1, cv2.LINE_AA)\n",
    "            cv2.rectangle(img, (x, y), (x+w, y+h), color_dict[4], 2)\n",
    "\n",
    "    cv2.imshow('LIVE', img)\n",
    "    key = cv2.waitKey(1)\n",
    "\n",
    "    if key == 27:  # Presiona la tecla Esc para salir\n",
    "        break\n",
    "\n",
    "cv2.destroyAllWindows()\n",
    "source.release()"
   ]
  },
  {
   "cell_type": "code",
   "execution_count": null,
   "id": "f99616b3",
   "metadata": {},
   "outputs": [],
   "source": []
  }
 ],
 "metadata": {
  "kernelspec": {
   "display_name": "Python 3 (ipykernel)",
   "language": "python",
   "name": "python3"
  },
  "language_info": {
   "codemirror_mode": {
    "name": "ipython",
    "version": 3
   },
   "file_extension": ".py",
   "mimetype": "text/x-python",
   "name": "python",
   "nbconvert_exporter": "python",
   "pygments_lexer": "ipython3",
   "version": "3.11.2"
  }
 },
 "nbformat": 4,
 "nbformat_minor": 5
}
